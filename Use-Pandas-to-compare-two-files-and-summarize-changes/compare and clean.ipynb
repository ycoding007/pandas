{
 "cells": [
  {
   "cell_type": "markdown",
   "metadata": {},
   "source": [
    "### Case description"
   ]
  },
  {
   "cell_type": "markdown",
   "metadata": {},
   "source": [
    "Imagine you as a project manager; one thing you might do on a daily basis is to look at a status report of the project. Unfortunately, that report is in Excel file, and to make thing worse, there are hundreds of line items that aren't to your interest. Sure, Excel has a filter function, but that will be too much repetitive work if you do the filtering on a daily basis. Also, new items can be added in today's report but not present in the past report. How are you going to catch this combined with other hundreds of line items after filtering in Excel?\\\n",
    "\\\n",
    "Below, we will demonstrate how Python and Pandas together can help us summarize status changes of the items we are interested in and output a Excel summary. Let's start!"
   ]
  },
  {
   "cell_type": "markdown",
   "metadata": {},
   "source": [
    "### Import libraries"
   ]
  },
  {
   "cell_type": "code",
   "execution_count": 261,
   "metadata": {},
   "outputs": [],
   "source": [
    "import pandas as pd\n",
    "from pandas import ExcelWriter\n",
    "pd.set_option('display.max_columns', None) #force pandas to display all columns\n",
    "pd.set_option('display.max_rows', None)    #force pandas to display all rows, CAREFUL\n",
    "import numpy as np\n",
    "from datetime import datetime"
   ]
  },
  {
   "cell_type": "markdown",
   "metadata": {},
   "source": [
    "### Import Excel files"
   ]
  },
  {
   "cell_type": "markdown",
   "metadata": {},
   "source": [
    "First, we import 2 Excel files, one has all the line items from yesterday, or last week, and the other one has all the line items from today. They have the same column setups but may have different content."
   ]
  },
  {
   "cell_type": "code",
   "execution_count": 262,
   "metadata": {},
   "outputs": [
    {
     "name": "stdout",
     "output_type": "stream",
     "text": [
      "Excel table dimension:\n",
      " old table: (718, 20) \n",
      " new table: (585, 20)\n",
      "\n",
      " The Excel file has 20 columns:\n",
      " ['IssueID', 'Issue Status', 'Severity', 'Target Closure Date', 'Green Checks', 'Blue Checks', 'Red Checks', 'Total', 'Mfg Functional Area', 'Lead PMT', 'Date Opened', 'Date Closed', 'Date Last Modified', 'Issue Additional Information', 'Additional Information', 'Originating CoP', 'Causal Factors', 'Resolution Lead', 'UnUp', 'ICNI_Title']\n"
     ]
    }
   ],
   "source": [
    "oldTable = pd.read_excel('report yesterday.xlsx', sheet_name='Sheet1')  # report from yesterday\n",
    "newTable = pd.read_excel('report today.xlsx', sheet_name='Sheet1')  # report from today\n",
    "\n",
    "print('Excel table dimension:\\n', 'old table:', oldTable.shape, '\\n', 'new table:', newTable.shape)\n",
    "\n",
    "colList = list(oldTable.columns)\n",
    "print('\\n','The Excel file has '+ str(len(colList)) + ' columns:\\n', colList)"
   ]
  },
  {
   "cell_type": "markdown",
   "metadata": {},
   "source": [
    "### Preprocessing\n",
    "The imported raw Excel file above has 21 columns, and about 700 line items. We select the columns we are interested in and filter by a specific team we want to look at; also, perform data type conversion for target columns."
   ]
  },
  {
   "cell_type": "code",
   "execution_count": 263,
   "metadata": {},
   "outputs": [],
   "source": [
    "colToKeep = ['IssueID', 'Issue Status', 'Target Closure Date', 'Green Checks', 'Blue Checks', 'Red Checks', 'Total', 'Mfg Functional Area', 'Lead PMT', 'Issue Description', 'Action', 'Date Opened', 'Date Last Modified',  'Resolution Lead']\n",
    "oldTable = oldTable.filter(items=colToKeep)\n",
    "newTable = newTable.filter(items=colToKeep)\n",
    "\n",
    "oldTable = oldTable[(oldTable['Lead PMT'] == '4 - Powertrain')]\n",
    "newTable = newTable[(newTable['Lead PMT'] == '4 - Powertrain')]\n",
    "\n",
    "oldTable['IssueID'] = oldTable['IssueID'].astype(int)\n",
    "newTable['IssueID'] = newTable['IssueID'].astype(int)\n",
    "\n",
    "oldTable['Date Opened'] = pd.to_datetime(oldTable['Date Opened'], infer_datetime_format=True, format = '%Y-%m-%d',errors='raise')\n",
    "newTable['Date Opened'] = pd.to_datetime(newTable['Date Opened'], infer_datetime_format=True, format = '%Y-%m-%d',errors='raise')\n"
   ]
  },
  {
   "cell_type": "markdown",
   "metadata": {},
   "source": [
    "### Compare the old and new tables to see if the issue status column is changed since the last report, if yes, indicator = 1\n",
    "Here comes the difference between manual laborious manipulation in Excel and the swift operation by Pandas."
   ]
  },
  {
   "cell_type": "code",
   "execution_count": 264,
   "metadata": {},
   "outputs": [
    {
     "data": {
      "text/html": [
       "<div>\n",
       "<style scoped>\n",
       "    .dataframe tbody tr th:only-of-type {\n",
       "        vertical-align: middle;\n",
       "    }\n",
       "\n",
       "    .dataframe tbody tr th {\n",
       "        vertical-align: top;\n",
       "    }\n",
       "\n",
       "    .dataframe thead th {\n",
       "        text-align: right;\n",
       "    }\n",
       "</style>\n",
       "<table border=\"1\" class=\"dataframe\">\n",
       "  <thead>\n",
       "    <tr style=\"text-align: right;\">\n",
       "      <th></th>\n",
       "      <th>IssueID</th>\n",
       "      <th>Issue Status_x</th>\n",
       "      <th>Issue Status_y</th>\n",
       "    </tr>\n",
       "  </thead>\n",
       "  <tbody>\n",
       "    <tr>\n",
       "      <th>0</th>\n",
       "      <td>194376</td>\n",
       "      <td>closed</td>\n",
       "      <td>closed</td>\n",
       "    </tr>\n",
       "    <tr>\n",
       "      <th>1</th>\n",
       "      <td>202594</td>\n",
       "      <td>closed</td>\n",
       "      <td>closed</td>\n",
       "    </tr>\n",
       "    <tr>\n",
       "      <th>2</th>\n",
       "      <td>194385</td>\n",
       "      <td>closed</td>\n",
       "      <td>closed</td>\n",
       "    </tr>\n",
       "    <tr>\n",
       "      <th>3</th>\n",
       "      <td>202899</td>\n",
       "      <td>closed</td>\n",
       "      <td>closed</td>\n",
       "    </tr>\n",
       "    <tr>\n",
       "      <th>4</th>\n",
       "      <td>194384</td>\n",
       "      <td>closed</td>\n",
       "      <td>closed</td>\n",
       "    </tr>\n",
       "  </tbody>\n",
       "</table>\n",
       "</div>"
      ],
      "text/plain": [
       "   IssueID Issue Status_x Issue Status_y\n",
       "0   194376         closed         closed\n",
       "1   202594         closed         closed\n",
       "2   194385         closed         closed\n",
       "3   202899         closed         closed\n",
       "4   194384         closed         closed"
      ]
     },
     "metadata": {},
     "output_type": "display_data"
    },
    {
     "data": {
      "text/html": [
       "<div>\n",
       "<style scoped>\n",
       "    .dataframe tbody tr th:only-of-type {\n",
       "        vertical-align: middle;\n",
       "    }\n",
       "\n",
       "    .dataframe tbody tr th {\n",
       "        vertical-align: top;\n",
       "    }\n",
       "\n",
       "    .dataframe thead th {\n",
       "        text-align: right;\n",
       "    }\n",
       "</style>\n",
       "<table border=\"1\" class=\"dataframe\">\n",
       "  <thead>\n",
       "    <tr style=\"text-align: right;\">\n",
       "      <th></th>\n",
       "      <th>IssueID</th>\n",
       "      <th>Issue Status OLD</th>\n",
       "      <th>Issue Status NEW</th>\n",
       "      <th>status change indicator</th>\n",
       "    </tr>\n",
       "  </thead>\n",
       "  <tbody>\n",
       "    <tr>\n",
       "      <th>0</th>\n",
       "      <td>194376</td>\n",
       "      <td>closed</td>\n",
       "      <td>closed</td>\n",
       "      <td>0</td>\n",
       "    </tr>\n",
       "    <tr>\n",
       "      <th>1</th>\n",
       "      <td>202594</td>\n",
       "      <td>closed</td>\n",
       "      <td>closed</td>\n",
       "      <td>0</td>\n",
       "    </tr>\n",
       "    <tr>\n",
       "      <th>2</th>\n",
       "      <td>194385</td>\n",
       "      <td>closed</td>\n",
       "      <td>closed</td>\n",
       "      <td>0</td>\n",
       "    </tr>\n",
       "    <tr>\n",
       "      <th>3</th>\n",
       "      <td>202899</td>\n",
       "      <td>closed</td>\n",
       "      <td>closed</td>\n",
       "      <td>0</td>\n",
       "    </tr>\n",
       "    <tr>\n",
       "      <th>4</th>\n",
       "      <td>194384</td>\n",
       "      <td>closed</td>\n",
       "      <td>closed</td>\n",
       "      <td>0</td>\n",
       "    </tr>\n",
       "  </tbody>\n",
       "</table>\n",
       "</div>"
      ],
      "text/plain": [
       "   IssueID Issue Status OLD Issue Status NEW  status change indicator\n",
       "0   194376           closed           closed                        0\n",
       "1   202594           closed           closed                        0\n",
       "2   194385           closed           closed                        0\n",
       "3   202899           closed           closed                        0\n",
       "4   194384           closed           closed                        0"
      ]
     },
     "metadata": {},
     "output_type": "display_data"
    }
   ],
   "source": [
    "oldStatus = oldTable[['IssueID', 'Issue Status']]\n",
    "newStatus = newTable[['IssueID', 'Issue Status']]\n",
    "\n",
    "statusChange = pd.merge(oldStatus, newStatus, on = 'IssueID', how = 'outer')\n",
    "display(statusChange.head())\n",
    "\n",
    "def findChange(x):\n",
    "    if x['Issue Status_x'] != x['Issue Status_y']:\n",
    "        return 1\n",
    "    else:\n",
    "        return 0\n",
    "\n",
    "statusChange['status change indicator'] = statusChange.apply(findChange, axis=1)\n",
    "statusChange = statusChange.rename(columns={'Issue Status_x': 'Issue Status OLD', 'Issue Status_y': 'Issue Status NEW'})\n",
    "display(statusChange.head())"
   ]
  },
  {
   "cell_type": "markdown",
   "metadata": {},
   "source": [
    "### Merge the status change results into the new table"
   ]
  },
  {
   "cell_type": "code",
   "execution_count": 265,
   "metadata": {
    "scrolled": false
   },
   "outputs": [
    {
     "data": {
      "text/html": [
       "<div>\n",
       "<style scoped>\n",
       "    .dataframe tbody tr th:only-of-type {\n",
       "        vertical-align: middle;\n",
       "    }\n",
       "\n",
       "    .dataframe tbody tr th {\n",
       "        vertical-align: top;\n",
       "    }\n",
       "\n",
       "    .dataframe thead th {\n",
       "        text-align: right;\n",
       "    }\n",
       "</style>\n",
       "<table border=\"1\" class=\"dataframe\">\n",
       "  <thead>\n",
       "    <tr style=\"text-align: right;\">\n",
       "      <th></th>\n",
       "      <th>IssueID</th>\n",
       "      <th>Target Closure Date</th>\n",
       "      <th>Green Checks</th>\n",
       "      <th>Blue Checks</th>\n",
       "      <th>Red Checks</th>\n",
       "      <th>Total</th>\n",
       "      <th>Mfg Functional Area</th>\n",
       "      <th>Lead PMT</th>\n",
       "      <th>Date Opened</th>\n",
       "      <th>Date Last Modified</th>\n",
       "      <th>Resolution Lead</th>\n",
       "      <th>Issue Status OLD</th>\n",
       "      <th>Issue Status NEW</th>\n",
       "      <th>status change indicator</th>\n",
       "    </tr>\n",
       "  </thead>\n",
       "  <tbody>\n",
       "    <tr>\n",
       "      <th>0</th>\n",
       "      <td>194376</td>\n",
       "      <td>08-May-2020</td>\n",
       "      <td>45</td>\n",
       "      <td>0</td>\n",
       "      <td>0</td>\n",
       "      <td>45</td>\n",
       "      <td>Final Assembly</td>\n",
       "      <td>4 - Powertrain</td>\n",
       "      <td>2019-12-26</td>\n",
       "      <td>06-May-2020</td>\n",
       "      <td>CAD</td>\n",
       "      <td>closed</td>\n",
       "      <td>closed</td>\n",
       "      <td>0</td>\n",
       "    </tr>\n",
       "    <tr>\n",
       "      <th>1</th>\n",
       "      <td>202594</td>\n",
       "      <td>10-Apr-2020</td>\n",
       "      <td>45</td>\n",
       "      <td>0</td>\n",
       "      <td>0</td>\n",
       "      <td>45</td>\n",
       "      <td>Final Assembly</td>\n",
       "      <td>4 - Powertrain</td>\n",
       "      <td>2020-03-11</td>\n",
       "      <td>08-Apr-2020</td>\n",
       "      <td>CAD</td>\n",
       "      <td>closed</td>\n",
       "      <td>closed</td>\n",
       "      <td>0</td>\n",
       "    </tr>\n",
       "    <tr>\n",
       "      <th>2</th>\n",
       "      <td>194385</td>\n",
       "      <td>28-Feb-2020</td>\n",
       "      <td>44</td>\n",
       "      <td>0</td>\n",
       "      <td>0</td>\n",
       "      <td>44</td>\n",
       "      <td>Final Assembly</td>\n",
       "      <td>4 - Powertrain</td>\n",
       "      <td>2019-12-26</td>\n",
       "      <td>19-Feb-2020</td>\n",
       "      <td>CAD</td>\n",
       "      <td>closed</td>\n",
       "      <td>closed</td>\n",
       "      <td>0</td>\n",
       "    </tr>\n",
       "    <tr>\n",
       "      <th>3</th>\n",
       "      <td>202899</td>\n",
       "      <td>24-Apr-2020</td>\n",
       "      <td>42</td>\n",
       "      <td>0</td>\n",
       "      <td>0</td>\n",
       "      <td>42</td>\n",
       "      <td>Final Assembly</td>\n",
       "      <td>4 - Powertrain</td>\n",
       "      <td>2020-03-13</td>\n",
       "      <td>21-Apr-2020</td>\n",
       "      <td>CAD</td>\n",
       "      <td>closed</td>\n",
       "      <td>closed</td>\n",
       "      <td>0</td>\n",
       "    </tr>\n",
       "    <tr>\n",
       "      <th>4</th>\n",
       "      <td>194384</td>\n",
       "      <td>27-Feb-2020</td>\n",
       "      <td>41</td>\n",
       "      <td>0</td>\n",
       "      <td>0</td>\n",
       "      <td>41</td>\n",
       "      <td>Final Assembly</td>\n",
       "      <td>4 - Powertrain</td>\n",
       "      <td>2019-12-26</td>\n",
       "      <td>19-Feb-2020</td>\n",
       "      <td>CAD</td>\n",
       "      <td>closed</td>\n",
       "      <td>closed</td>\n",
       "      <td>0</td>\n",
       "    </tr>\n",
       "  </tbody>\n",
       "</table>\n",
       "</div>"
      ],
      "text/plain": [
       "   IssueID Target Closure Date  Green Checks  Blue Checks  Red Checks  Total  \\\n",
       "0   194376         08-May-2020            45            0           0     45   \n",
       "1   202594         10-Apr-2020            45            0           0     45   \n",
       "2   194385         28-Feb-2020            44            0           0     44   \n",
       "3   202899         24-Apr-2020            42            0           0     42   \n",
       "4   194384         27-Feb-2020            41            0           0     41   \n",
       "\n",
       "  Mfg Functional Area        Lead PMT Date Opened Date Last Modified  \\\n",
       "0      Final Assembly  4 - Powertrain  2019-12-26        06-May-2020   \n",
       "1      Final Assembly  4 - Powertrain  2020-03-11        08-Apr-2020   \n",
       "2      Final Assembly  4 - Powertrain  2019-12-26        19-Feb-2020   \n",
       "3      Final Assembly  4 - Powertrain  2020-03-13        21-Apr-2020   \n",
       "4      Final Assembly  4 - Powertrain  2019-12-26        19-Feb-2020   \n",
       "\n",
       "  Resolution Lead Issue Status OLD Issue Status NEW  status change indicator  \n",
       "0             CAD           closed           closed                        0  \n",
       "1             CAD           closed           closed                        0  \n",
       "2             CAD           closed           closed                        0  \n",
       "3             CAD           closed           closed                        0  \n",
       "4             CAD           closed           closed                        0  "
      ]
     },
     "metadata": {},
     "output_type": "display_data"
    }
   ],
   "source": [
    "output = pd.merge(newTable, statusChange, on = 'IssueID', how = 'outer')\n",
    "output.fillna('NA', inplace=True)  # fill NA if there are new issueID generated in today report or issueID gets deleted\n",
    "output.drop(['Issue Status'], axis=1,inplace=True)\n",
    "display(output.head())"
   ]
  },
  {
   "cell_type": "markdown",
   "metadata": {},
   "source": [
    "### Reorder table by issueID"
   ]
  },
  {
   "cell_type": "code",
   "execution_count": 266,
   "metadata": {},
   "outputs": [],
   "source": [
    "output = output.sort_values(by=['IssueID','Issue Status NEW'], ascending = True)"
   ]
  },
  {
   "cell_type": "markdown",
   "metadata": {},
   "source": [
    "### One more filtering\n",
    "We want to focus on any open or pending items or the items status have changed between the old and new report."
   ]
  },
  {
   "cell_type": "code",
   "execution_count": 267,
   "metadata": {},
   "outputs": [],
   "source": [
    "output = output[(output['Issue Status NEW'] != 'closed') | (output['status change indicator'] == 1)]"
   ]
  },
  {
   "cell_type": "markdown",
   "metadata": {},
   "source": [
    "### Make a issue summary table\n",
    "A quick summary table shows how many items are in open or pending status."
   ]
  },
  {
   "cell_type": "code",
   "execution_count": 268,
   "metadata": {},
   "outputs": [
    {
     "data": {
      "text/html": [
       "<div>\n",
       "<style scoped>\n",
       "    .dataframe tbody tr th:only-of-type {\n",
       "        vertical-align: middle;\n",
       "    }\n",
       "\n",
       "    .dataframe tbody tr th {\n",
       "        vertical-align: top;\n",
       "    }\n",
       "\n",
       "    .dataframe thead th {\n",
       "        text-align: right;\n",
       "    }\n",
       "</style>\n",
       "<table border=\"1\" class=\"dataframe\">\n",
       "  <thead>\n",
       "    <tr style=\"text-align: right;\">\n",
       "      <th></th>\n",
       "      <th>Issue Status NEW</th>\n",
       "      <th>Count</th>\n",
       "    </tr>\n",
       "  </thead>\n",
       "  <tbody>\n",
       "    <tr>\n",
       "      <th>0</th>\n",
       "      <td>open</td>\n",
       "      <td>9</td>\n",
       "    </tr>\n",
       "    <tr>\n",
       "      <th>1</th>\n",
       "      <td>pending</td>\n",
       "      <td>2</td>\n",
       "    </tr>\n",
       "  </tbody>\n",
       "</table>\n",
       "</div>"
      ],
      "text/plain": [
       "  Issue Status NEW  Count\n",
       "0             open      9\n",
       "1          pending      2"
      ]
     },
     "metadata": {},
     "output_type": "display_data"
    }
   ],
   "source": [
    "summary = output.groupby(['Issue Status NEW'], as_index=False)['Issue Status OLD'].count()\n",
    "summary.rename(columns={\"Issue Status OLD\": \"Count\"}, inplace=True)\n",
    "display(summary)"
   ]
  },
  {
   "cell_type": "markdown",
   "metadata": {},
   "source": [
    "### Color coding Issue Status column\n",
    "highlight the status column using different color coding for easier differentiation."
   ]
  },
  {
   "cell_type": "code",
   "execution_count": 269,
   "metadata": {},
   "outputs": [],
   "source": [
    "def color(val):\n",
    "    if val == 'closed':\n",
    "        color = '#5fba7d'\n",
    "    elif val == 'pending':\n",
    "        color = 'yellow'\n",
    "    elif val == 'open':\n",
    "        color = '#d65f5f'\n",
    "    elif val == 'NA':\n",
    "        color = '#d65f5f'\n",
    "    return 'background-color: %s' % color\n",
    "\n",
    "output = output.style.applymap(color, subset=['Issue Status OLD','Issue Status NEW'])"
   ]
  },
  {
   "cell_type": "markdown",
   "metadata": {},
   "source": [
    "### Export a cleaned status report"
   ]
  },
  {
   "cell_type": "code",
   "execution_count": 270,
   "metadata": {},
   "outputs": [],
   "source": [
    "today = datetime.today().strftime('%Y-%m-%d')\n",
    "fileName = 'report ' + today + '.xlsx'\n",
    "\n",
    "writer = ExcelWriter(fileName, date_format = 'yyyy-mm-dd',datetime_format='yyyy-mm-dd')\n",
    "output.to_excel(writer,'Sheet1', index=False)\n",
    "summary.to_excel(writer,'Summary', index=False)\n",
    "writer.save()"
   ]
  },
  {
   "cell_type": "markdown",
   "metadata": {},
   "source": [
    "### Conclusion"
   ]
  },
  {
   "cell_type": "markdown",
   "metadata": {},
   "source": [
    "We successfully generated a cleaned and brief summary report cater to our needs.\\\n",
    "This may not seem to be a big deal at first glance; however, imagine you as a project manager who wants to track the status on a weekly or daily basis, then, using this tool can help save hundreds of miniutes."
   ]
  },
  {
   "cell_type": "code",
   "execution_count": null,
   "metadata": {},
   "outputs": [],
   "source": []
  }
 ],
 "metadata": {
  "kernelspec": {
   "display_name": "Python 3",
   "language": "python",
   "name": "python3"
  },
  "language_info": {
   "codemirror_mode": {
    "name": "ipython",
    "version": 3
   },
   "file_extension": ".py",
   "mimetype": "text/x-python",
   "name": "python",
   "nbconvert_exporter": "python",
   "pygments_lexer": "ipython3",
   "version": "3.8.5"
  }
 },
 "nbformat": 4,
 "nbformat_minor": 2
}
